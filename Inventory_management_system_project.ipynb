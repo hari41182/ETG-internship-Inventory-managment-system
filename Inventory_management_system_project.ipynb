{
  "nbformat": 4,
  "nbformat_minor": 0,
  "metadata": {
    "colab": {
      "name": "Inventory management system project.ipynb",
      "provenance": [],
      "collapsed_sections": []
    },
    "kernelspec": {
      "name": "python3",
      "display_name": "Python 3"
    },
    "language_info": {
      "name": "python"
    }
  },
  "cells": [
    {
      "cell_type": "code",
      "metadata": {
        "id": "Hmyf3t16-S84"
      },
      "source": [
        "import json\n",
        "fd=open('records.json','w')\n",
        "\n",
        "dct=      {\n",
        "          1001:{'name':'Drink'   ,'price':45 ,'in_stock':9500 ,'expires_in':10, 'veg':'yes'},\n",
        "          1002:{'name':'Lays'    ,'price':20 ,'in_stock':1800 ,'expires_in':11, 'veg':'yes'},\n",
        "          1003:{'name':'Comb'    ,'price':10 ,'in_stock':1000 ,'expires_in':12, 'veg':'yes'},\n",
        "          1004:{'name':'Burger'  ,'price':99 ,'in_stock':1000 ,'expires_in':13, 'veg':'no'},\n",
        "          1005:{'name':'Bun'     ,'price':20 ,'in_stock':1500 ,'expires_in':14, 'veg':'yes'},\n",
        "          1006:{'name':'nuttella','price':350,'in_stock':1000 ,'expires_in':15, 'veg':'yes'},\n",
        "          1007:{'name':'Ghee'    ,'price':200,'in_stock':1500 ,'expires_in':15, 'veg':'yes'},\n",
        "          1008:{'name':'milk'    ,'price':60 ,'in_stock':3000 ,'expires_in':16, 'veg':'yes'},\n",
        "          1009:{'name':'curd'    ,'price':30 ,'in_stock':1000 ,'expires_in':17, 'veg':'yes'},\n",
        "          1010:{'name':'chicken' ,'price':200,'in_stock':5000 ,'expires_in':18, 'veg':'no'},\n",
        "          1011:{'name':'beef'    ,'price':360,'in_stock':1000 ,'expires_in':19, 'veg':'no'},\n",
        "          1012:{'name':'fish'    ,'price':150,'in_stock':1400 ,'expires_in':20, 'veg':'no'},\n",
        "          1013:{'name':'nuggets' ,'price':99 ,'in_stock':300  ,'expires_in':21, 'veg':'no'},\n",
        "          1014:{'name':'umbrella','price':99 ,'in_stock':500  ,'expires_in':0 , 'veg':'no'},\n",
        "          1015:{'name':'munch'   ,'price':10 ,'in_stock':1000 ,'expires_in':13, 'veg':'no'},\n",
        "          1016:{'name':'Atta'    ,'price':50 ,'in_stock':1000 ,'expires_in':22, 'veg':'no'},\n",
        "          1017:{'name':'oil'     ,'price':200,'in_stock':1000 ,'expires_in':25, 'veg':'yes'},\n",
        "          1018:{'name':'paneer'  ,'price':50 ,'in_stock':1000 ,'expires_in':35, 'veg':'no'},\n",
        "          1019:{'name':'sharpner','price':5 ,'in_stock':1000  ,'expires_in':0 , 'veg':'no'},\n",
        "          1020:{'name':'whisper' ,'price':60 ,'in_stock':1000 ,'expires_in':15, 'veg':'no'},\n",
        "          1021:{'name':'gloves'  ,'price':60 ,'in_stock':1000 ,'expires_in':0 , 'veg':'no'},\n",
        "          1022:{'name':'pears'   ,'price':40 ,'in_stock':1000 ,'expires_in':0 , 'veg':'no'},\n",
        "          1023:{'name':'maggi'   ,'price':60 ,'in_stock':1000 ,'expires_in':15, 'veg':'yes'},\n",
        "          1024:{'name':'clove'   ,'price':60 ,'in_stock':1000 ,'expires_in':15, 'veg':'no'},\n",
        "          1025:{'name':'chocos'  ,'price':150,'in_stock':1000 ,'expires_in':50, 'veg':'no'},\n",
        "          1026:{'name':'crnflake','price':100,'in_stock':1000 ,'expires_in':15, 'veg':'no'},\n",
        "          1027:{'name':'surf'    ,'price':200,'in_stock':1000 ,'expires_in':15, 'veg':'no'},\n",
        "          1028:{'name':'rice'    ,'price':400,'in_stock':1000 ,'expires_in':15, 'veg':'yes'},\n",
        "          1029:{'name':'dal'     ,'price':35 ,'in_stock':1000 ,'expires_in':15, 'veg':'no'},\n",
        "          1030:{'name':'cashew'  ,'price':350 ,'in_stock':1000,'expires_in':80, 'veg':'no'},\n",
        "          }\n",
        "s=json.dumps(dct)\n",
        "fd.write(s)\n",
        "\n",
        "fd.close()\n",
        "lst=[]"
      ],
      "execution_count": 1,
      "outputs": []
    },
    {
      "cell_type": "markdown",
      "metadata": {
        "id": "abAP-dHIH1Vf"
      },
      "source": [
        "**GENERATING BILL & UPDATING THE INVENTORY**\n"
      ]
    },
    {
      "cell_type": "markdown",
      "metadata": {
        "id": "wcVpVh0BJgYU"
      },
      "source": [
        ""
      ]
    },
    {
      "cell_type": "code",
      "metadata": {
        "colab": {
          "base_uri": "https://localhost:8080/"
        },
        "id": "dpOOL8od-nox",
        "outputId": "6f7c7790-f46f-41bb-acf7-c3d64f149d49"
      },
      "source": [
        "import json\n",
        "ui_prod=input(\"Enter prodcut ID : \")\n",
        "ui_quan=int(input(\"Enter Quantity : \"))\n",
        "print()\n",
        "\n",
        "r=json.loads(s)\n",
        "for i in r.keys():\n",
        "  if (ui_prod==i):\n",
        "    \n",
        "    print(\"Name :\",r[i]['name'])\n",
        "    print(\"Price for 1 :\",r[i]['price'])\n",
        "    print()\n",
        "    print('-----------------------')\n",
        "    print(\"Total Bill =\",(float(r[i]['price'])*ui_quan))\n",
        "    print('-----------------------')\n",
        "    \n",
        "\n",
        "    #updating inventory\n",
        "    r[i]['in_stock']=r[i]['in_stock']-ui_quan \n",
        "    new_dct=json.dumps(r)\n",
        "    fd=open('records.json','w')\n",
        "    fd.write(new_dct)  #updating records.json file\n",
        "    fd.close()\n",
        "    s=json.dumps(r)\n",
        "\n",
        "    #sales.json file\n",
        "    lst.append([r[i]['name'],r[i]['price'],ui_quan])\n",
        "    \n",
        "  \n"
      ],
      "execution_count": 2,
      "outputs": [
        {
          "output_type": "stream",
          "name": "stdout",
          "text": [
            "Enter prodcut ID : 1001\n",
            "Enter Quantity : 2\n",
            "\n",
            "Name : Drink\n",
            "Price for 1 : 45\n",
            "\n",
            "-----------------------\n",
            "Total Bill = 90.0\n",
            "-----------------------\n"
          ]
        }
      ]
    },
    {
      "cell_type": "markdown",
      "metadata": {
        "id": "MYtAN5gkzzaG"
      },
      "source": [
        "**Creating sales.json file**"
      ]
    },
    {
      "cell_type": "code",
      "metadata": {
        "id": "CKnNCgmAqe0q"
      },
      "source": [
        "#creating sales.json file\n",
        "sale={}\n",
        "for i in range(len(lst)):\n",
        "  sale[len(sale)+1]={'name':lst[i][0],'price':lst[i][1],'quantity':lst[i][2],'total amount':lst[i][2]*float(lst[i][1])}\n",
        "\n",
        "new_sale=json.dumps(sale)\n",
        "f = open(\"sales.json\", \"w\")\n",
        "f.write(new_sale)\n",
        "f.close()"
      ],
      "execution_count": 3,
      "outputs": []
    },
    {
      "cell_type": "markdown",
      "metadata": {
        "id": "2L58ceKmYmpg"
      },
      "source": [
        "**ADDING NEW ITEM TO INVENTORY**\n"
      ]
    },
    {
      "cell_type": "code",
      "metadata": {
        "id": "UzHsIxD9MNeT"
      },
      "source": [
        "prod_id=input(\"Enter product ID: \")\n",
        "prod_name=input(\"Enter product name: \")\n",
        "prod_price=int(input(\"Enter product price: \"))\n",
        "prod_quantity=int(input(\"Enter quantity: \"))\n",
        "prod_expiry=int(input(\"Enter expiry: \"))\n",
        "prod_class=input(\"Enter if vegetarian or not: \")\n",
        "\n",
        "dct[prod_id]={'name':prod_name,'in_stock':prod_quantity,'price':prod_price,'expires_in':prod_expiry,'veg':prod_class}\n",
        "fd=open('records.json','w')\n",
        "s=json.dumps(dct)\n",
        "fd.write(s)\n",
        "\n",
        "fd.close()"
      ],
      "execution_count": null,
      "outputs": []
    },
    {
      "cell_type": "markdown",
      "metadata": {
        "id": "jnIAglBObNOf"
      },
      "source": [
        "**Checking Stock details of a particular product**"
      ]
    },
    {
      "cell_type": "code",
      "metadata": {
        "colab": {
          "base_uri": "https://localhost:8080/"
        },
        "id": "2-nOj6vzZmAQ",
        "outputId": "551f5601-3dc6-499a-9788-77ffd3411111"
      },
      "source": [
        "prod_id=input(\"Enter product ID: \");print()\n",
        "r=json.loads(s)\n",
        "found=0\n",
        "for i in r.keys():\n",
        "  if (prod_id==i):\n",
        "    found=1\n",
        "    print('Product details are: ')\n",
        "    print('Product ID: ',i)\n",
        "    print('In stock quantity: ',r[i]['in_stock'])\n",
        "    print(\"Expires in \",r[i]['expires_in'],'days')\n",
        "\n",
        "if (found==0):\n",
        "  print(\"Enter a valid product ID!\")\n",
        "\n",
        "\n",
        "\n"
      ],
      "execution_count": 18,
      "outputs": [
        {
          "output_type": "stream",
          "name": "stdout",
          "text": [
            "Enter product ID: 1001\n",
            "\n",
            "Product details are: \n",
            "Product ID:  1001\n",
            "In stock quantity:  9498\n",
            "Expires in  10 days\n"
          ]
        }
      ]
    },
    {
      "cell_type": "code",
      "metadata": {
        "id": "HBewd6_gdK8M"
      },
      "source": [
        ""
      ],
      "execution_count": null,
      "outputs": []
    }
  ]
}